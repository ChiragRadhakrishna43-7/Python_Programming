{
 "cells": [
  {
   "cell_type": "markdown",
   "id": "6774070a",
   "metadata": {},
   "source": [
    "#### Python is a popular programming language. However, it is essentially a scripting language. It has a plethora of applications. It helps ignore multiple syntactical notations seen in fellow languages like C and Java. Hence, it is quite easier to learn Python."
   ]
  },
  {
   "cell_type": "code",
   "execution_count": 1,
   "id": "61314299",
   "metadata": {},
   "outputs": [],
   "source": [
    "# PYTHON VARIABLES"
   ]
  },
  {
   "cell_type": "code",
   "execution_count": 2,
   "id": "45a882be",
   "metadata": {},
   "outputs": [
    {
     "name": "stdout",
     "output_type": "stream",
     "text": [
      "9\n",
      "7\n"
     ]
    }
   ],
   "source": [
    "# variables are placeholders for various values required in a program\n",
    "\n",
    "x = 2\n",
    "x = x + 7\n",
    "\n",
    "a = 4\n",
    "b = 3\n",
    "\n",
    "print(x)\n",
    "print(a+b)"
   ]
  },
  {
   "cell_type": "code",
   "execution_count": 3,
   "id": "7236a066",
   "metadata": {},
   "outputs": [
    {
     "data": {
      "text/plain": [
       "5"
      ]
     },
     "execution_count": 3,
     "metadata": {},
     "output_type": "execute_result"
    }
   ],
   "source": [
    "y = 2\n",
    "z = 3\n",
    "y+z"
   ]
  },
  {
   "cell_type": "code",
   "execution_count": 4,
   "id": "c94ee7aa",
   "metadata": {
    "scrolled": true
   },
   "outputs": [
    {
     "data": {
      "text/plain": [
       "7"
      ]
     },
     "execution_count": 4,
     "metadata": {},
     "output_type": "execute_result"
    }
   ],
   "source": [
    "_ + 2 # _ represents output of the previous operation"
   ]
  },
  {
   "cell_type": "code",
   "execution_count": 5,
   "id": "1fb43286",
   "metadata": {},
   "outputs": [],
   "source": [
    "# LISTS"
   ]
  },
  {
   "cell_type": "code",
   "execution_count": 6,
   "id": "b69b09f2",
   "metadata": {},
   "outputs": [],
   "source": [
    "nums = [34,43,59,67,68]"
   ]
  },
  {
   "cell_type": "code",
   "execution_count": 7,
   "id": "9bf7d8d6",
   "metadata": {},
   "outputs": [
    {
     "name": "stdout",
     "output_type": "stream",
     "text": [
      "59\n",
      "[67, 68]\n",
      "68\n"
     ]
    }
   ],
   "source": [
    "# accessing elements (slicing)\n",
    "\n",
    "print(nums[2])\n",
    "print(nums[3:])\n",
    "print(nums[-1])"
   ]
  },
  {
   "cell_type": "code",
   "execution_count": 8,
   "id": "0b848c5b",
   "metadata": {},
   "outputs": [],
   "source": [
    "values = [9.5,'Starc',25] # list comprising of different data types"
   ]
  },
  {
   "cell_type": "code",
   "execution_count": 9,
   "id": "7e4d4bfc",
   "metadata": {},
   "outputs": [],
   "source": [
    "values.append(43) # adds an element to the end of the list"
   ]
  },
  {
   "cell_type": "code",
   "execution_count": 10,
   "id": "8a0158b6",
   "metadata": {},
   "outputs": [],
   "source": [
    "values.insert(2,77) # insert at the specified positiom"
   ]
  },
  {
   "cell_type": "code",
   "execution_count": 11,
   "id": "04bc4037",
   "metadata": {},
   "outputs": [],
   "source": [
    "values.remove(9.5) # remove an element from the list"
   ]
  },
  {
   "cell_type": "code",
   "execution_count": 12,
   "id": "24d2ce0a",
   "metadata": {},
   "outputs": [
    {
     "data": {
      "text/plain": [
       "['Starc', 77, 25, 43]"
      ]
     },
     "execution_count": 12,
     "metadata": {},
     "output_type": "execute_result"
    }
   ],
   "source": [
    "values"
   ]
  },
  {
   "cell_type": "code",
   "execution_count": 13,
   "id": "0718ad8b",
   "metadata": {},
   "outputs": [
    {
     "data": {
      "text/plain": [
       "77"
      ]
     },
     "execution_count": 13,
     "metadata": {},
     "output_type": "execute_result"
    }
   ],
   "source": [
    "values.pop(1) # deleting an element at an index position"
   ]
  },
  {
   "cell_type": "code",
   "execution_count": 14,
   "id": "6af6ce3d",
   "metadata": {},
   "outputs": [
    {
     "data": {
      "text/plain": [
       "['Starc', 25, 43]"
      ]
     },
     "execution_count": 14,
     "metadata": {},
     "output_type": "execute_result"
    }
   ],
   "source": [
    "values"
   ]
  },
  {
   "cell_type": "code",
   "execution_count": 15,
   "id": "b57cb081",
   "metadata": {},
   "outputs": [
    {
     "data": {
      "text/plain": [
       "43"
      ]
     },
     "execution_count": 15,
     "metadata": {},
     "output_type": "execute_result"
    }
   ],
   "source": [
    "values.pop()"
   ]
  },
  {
   "cell_type": "code",
   "execution_count": 16,
   "id": "79899640",
   "metadata": {},
   "outputs": [],
   "source": [
    "del values"
   ]
  },
  {
   "cell_type": "code",
   "execution_count": 17,
   "id": "c9c74e13",
   "metadata": {},
   "outputs": [],
   "source": [
    "list1 = [23,54,3,4,5,6,77,89]"
   ]
  },
  {
   "cell_type": "code",
   "execution_count": 18,
   "id": "cd9d9d1b",
   "metadata": {},
   "outputs": [
    {
     "data": {
      "text/plain": [
       "3"
      ]
     },
     "execution_count": 18,
     "metadata": {},
     "output_type": "execute_result"
    }
   ],
   "source": [
    "min(list1)"
   ]
  },
  {
   "cell_type": "code",
   "execution_count": 19,
   "id": "2c13508b",
   "metadata": {},
   "outputs": [
    {
     "data": {
      "text/plain": [
       "89"
      ]
     },
     "execution_count": 19,
     "metadata": {},
     "output_type": "execute_result"
    }
   ],
   "source": [
    "max(list1)"
   ]
  },
  {
   "cell_type": "code",
   "execution_count": 20,
   "id": "70ac70e8",
   "metadata": {},
   "outputs": [
    {
     "data": {
      "text/plain": [
       "261"
      ]
     },
     "execution_count": 20,
     "metadata": {},
     "output_type": "execute_result"
    }
   ],
   "source": [
    "sum(list1)"
   ]
  },
  {
   "cell_type": "code",
   "execution_count": 21,
   "id": "e17d8803",
   "metadata": {},
   "outputs": [],
   "source": [
    "list1.sort()"
   ]
  },
  {
   "cell_type": "code",
   "execution_count": 22,
   "id": "a9a26768",
   "metadata": {
    "scrolled": true
   },
   "outputs": [
    {
     "data": {
      "text/plain": [
       "[3, 4, 5, 6, 23, 54, 77, 89]"
      ]
     },
     "execution_count": 22,
     "metadata": {},
     "output_type": "execute_result"
    }
   ],
   "source": [
    "list1"
   ]
  },
  {
   "cell_type": "code",
   "execution_count": 23,
   "id": "a7b0f02e",
   "metadata": {},
   "outputs": [],
   "source": [
    "# TUPLES AND SETS"
   ]
  },
  {
   "cell_type": "code",
   "execution_count": 24,
   "id": "1642cd80",
   "metadata": {},
   "outputs": [],
   "source": [
    "# Tuple is similar to list. However, tuples are not mutable.\n",
    "# Tuple does not support item assignment.\n",
    "\n",
    "tuple1 = () # creating an empty tuple."
   ]
  },
  {
   "cell_type": "code",
   "execution_count": 25,
   "id": "5d06f81d",
   "metadata": {},
   "outputs": [],
   "source": [
    "tuple1 = (21,36,14,43,99)"
   ]
  },
  {
   "cell_type": "code",
   "execution_count": 26,
   "id": "ec4c2c45",
   "metadata": {},
   "outputs": [
    {
     "data": {
      "text/plain": [
       "36"
      ]
     },
     "execution_count": 26,
     "metadata": {},
     "output_type": "execute_result"
    }
   ],
   "source": [
    "tuple1[1] # fetching a value from a tuple."
   ]
  },
  {
   "cell_type": "code",
   "execution_count": 27,
   "id": "3c0b4bbb",
   "metadata": {},
   "outputs": [],
   "source": [
    "# Set is a collection of unique elements.\n",
    "\n",
    "set1 = {22,23,24,25} # sequence is not followed/required"
   ]
  },
  {
   "cell_type": "code",
   "execution_count": 28,
   "id": "eac8131f",
   "metadata": {},
   "outputs": [
    {
     "data": {
      "text/plain": [
       "{22, 23, 24, 25}"
      ]
     },
     "execution_count": 28,
     "metadata": {},
     "output_type": "execute_result"
    }
   ],
   "source": [
    "set1"
   ]
  },
  {
   "cell_type": "code",
   "execution_count": 29,
   "id": "c2c36ea6",
   "metadata": {},
   "outputs": [],
   "source": [
    "set2 = {2,2,2,2,2,7}"
   ]
  },
  {
   "cell_type": "code",
   "execution_count": 30,
   "id": "1d0110d1",
   "metadata": {},
   "outputs": [
    {
     "data": {
      "text/plain": [
       "{2, 7}"
      ]
     },
     "execution_count": 30,
     "metadata": {},
     "output_type": "execute_result"
    }
   ],
   "source": [
    "set2"
   ]
  },
  {
   "cell_type": "code",
   "execution_count": 31,
   "id": "fe2250a8",
   "metadata": {},
   "outputs": [],
   "source": [
    "# set uses a technique called hash which speeds up the search for a particular element.\n",
    "\n",
    "# set object does not support indexing."
   ]
  },
  {
   "cell_type": "code",
   "execution_count": 32,
   "id": "9453eb26",
   "metadata": {},
   "outputs": [],
   "source": [
    "# DICTIONARIES"
   ]
  },
  {
   "cell_type": "code",
   "execution_count": 33,
   "id": "83a5c2d9",
   "metadata": {},
   "outputs": [],
   "source": [
    "data = dict() # creating an empty dictionary"
   ]
  },
  {
   "cell_type": "code",
   "execution_count": 34,
   "id": "4b95ef43",
   "metadata": {},
   "outputs": [
    {
     "data": {
      "text/plain": [
       "{}"
      ]
     },
     "execution_count": 34,
     "metadata": {},
     "output_type": "execute_result"
    }
   ],
   "source": [
    "data"
   ]
  },
  {
   "cell_type": "code",
   "execution_count": 35,
   "id": "d66dda24",
   "metadata": {},
   "outputs": [],
   "source": [
    "data1 = {1:'Purdy',2:'McCaffrey',3:'Kittle',4:'Trent'}"
   ]
  },
  {
   "cell_type": "code",
   "execution_count": 36,
   "id": "6945584d",
   "metadata": {},
   "outputs": [
    {
     "data": {
      "text/plain": [
       "'Kittle'"
      ]
     },
     "execution_count": 36,
     "metadata": {},
     "output_type": "execute_result"
    }
   ],
   "source": [
    "data1[3] # access an element"
   ]
  },
  {
   "cell_type": "code",
   "execution_count": 37,
   "id": "e7c5710c",
   "metadata": {},
   "outputs": [
    {
     "data": {
      "text/plain": [
       "'Kittle'"
      ]
     },
     "execution_count": 37,
     "metadata": {},
     "output_type": "execute_result"
    }
   ],
   "source": [
    "data1.get(3) # access an element"
   ]
  },
  {
   "cell_type": "code",
   "execution_count": 38,
   "id": "aa54948f",
   "metadata": {},
   "outputs": [
    {
     "data": {
      "text/plain": [
       "'Not Found'"
      ]
     },
     "execution_count": 38,
     "metadata": {},
     "output_type": "execute_result"
    }
   ],
   "source": [
    "data1.get(5,'Not Found')"
   ]
  },
  {
   "cell_type": "code",
   "execution_count": 39,
   "id": "6dfa3215",
   "metadata": {},
   "outputs": [],
   "source": [
    "# implementing a dictionary using a list\n",
    "\n",
    "keys = [1,2,3,4,5]\n",
    "\n",
    "values = ['Betts','Freeman','Ohtani','Glasnow','Lux']\n",
    "\n",
    "data = dict(zip(keys,values))"
   ]
  },
  {
   "cell_type": "code",
   "execution_count": 40,
   "id": "7f3bfaf8",
   "metadata": {},
   "outputs": [
    {
     "data": {
      "text/plain": [
       "{1: 'Betts', 2: 'Freeman', 3: 'Ohtani', 4: 'Glasnow', 5: 'Lux'}"
      ]
     },
     "execution_count": 40,
     "metadata": {},
     "output_type": "execute_result"
    }
   ],
   "source": [
    "data"
   ]
  },
  {
   "cell_type": "code",
   "execution_count": 41,
   "id": "f906beaa",
   "metadata": {},
   "outputs": [],
   "source": [
    "data2 = zip(keys,values)"
   ]
  },
  {
   "cell_type": "code",
   "execution_count": 42,
   "id": "5d4eefd2",
   "metadata": {},
   "outputs": [
    {
     "data": {
      "text/plain": [
       "<zip at 0x160ba3b9c00>"
      ]
     },
     "execution_count": 42,
     "metadata": {},
     "output_type": "execute_result"
    }
   ],
   "source": [
    "data2"
   ]
  },
  {
   "cell_type": "code",
   "execution_count": 43,
   "id": "306900b5",
   "metadata": {},
   "outputs": [],
   "source": [
    "data1.clear() # clear the dictionary entries"
   ]
  },
  {
   "cell_type": "code",
   "execution_count": 44,
   "id": "581f6d81",
   "metadata": {},
   "outputs": [],
   "source": [
    "data[6] = 'Yamamoto'"
   ]
  },
  {
   "cell_type": "code",
   "execution_count": 45,
   "id": "54a81178",
   "metadata": {},
   "outputs": [
    {
     "data": {
      "text/plain": [
       "{1: 'Betts', 2: 'Freeman', 3: 'Ohtani', 4: 'Glasnow', 5: 'Lux', 6: 'Yamamoto'}"
      ]
     },
     "execution_count": 45,
     "metadata": {},
     "output_type": "execute_result"
    }
   ],
   "source": [
    "data"
   ]
  },
  {
   "cell_type": "code",
   "execution_count": 46,
   "id": "28b4bee9",
   "metadata": {},
   "outputs": [],
   "source": [
    "del data[6] # deleting an entry"
   ]
  },
  {
   "cell_type": "code",
   "execution_count": 47,
   "id": "2c9b5cfd",
   "metadata": {},
   "outputs": [],
   "source": [
    "prog = {'JS':'Atom', 'CS':'VS', 'Python':['Pycharm','Sublime'],'Java':{'Java SE','NetBeans'}}"
   ]
  },
  {
   "cell_type": "code",
   "execution_count": 48,
   "id": "ac7918a2",
   "metadata": {},
   "outputs": [
    {
     "data": {
      "text/plain": [
       "{'JS': 'Atom',\n",
       " 'CS': 'VS',\n",
       " 'Python': ['Pycharm', 'Sublime'],\n",
       " 'Java': {'Java SE', 'NetBeans'}}"
      ]
     },
     "execution_count": 48,
     "metadata": {},
     "output_type": "execute_result"
    }
   ],
   "source": [
    "prog"
   ]
  },
  {
   "cell_type": "code",
   "execution_count": null,
   "id": "1227e991",
   "metadata": {},
   "outputs": [],
   "source": [
    "# help command provides helpful documentation.\n",
    "\n",
    "# help()"
   ]
  },
  {
   "cell_type": "code",
   "execution_count": 1,
   "id": "76538cfc",
   "metadata": {},
   "outputs": [
    {
     "data": {
      "text/plain": [
       "2561611753968"
      ]
     },
     "execution_count": 1,
     "metadata": {},
     "output_type": "execute_result"
    }
   ],
   "source": [
    "num = 7\n",
    "\n",
    "id(num) # gives us address location of the variable 'num'."
   ]
  },
  {
   "cell_type": "code",
   "execution_count": 2,
   "id": "2e1e9036",
   "metadata": {},
   "outputs": [
    {
     "data": {
      "text/plain": [
       "'\\nOPERATORS IN PYTHON:\\n\\n1. Arithmetic Operators\\n\\n2. Assignment Operators\\n\\n3. Unary Operators\\n\\n4. Relational Operators\\n\\n5. Logical Operators\\n'"
      ]
     },
     "execution_count": 2,
     "metadata": {},
     "output_type": "execute_result"
    }
   ],
   "source": [
    "\"\"\"\n",
    "OPERATORS IN PYTHON:\n",
    "\n",
    "1. Arithmetic Operators\n",
    "\n",
    "2. Assignment Operators\n",
    "\n",
    "3. Unary Operators\n",
    "\n",
    "4. Relational Operators\n",
    "\n",
    "5. Logical Operators\n",
    "\"\"\" "
   ]
  },
  {
   "cell_type": "code",
   "execution_count": 3,
   "id": "f728984a",
   "metadata": {},
   "outputs": [
    {
     "data": {
      "text/plain": [
       "'0b11001'"
      ]
     },
     "execution_count": 3,
     "metadata": {},
     "output_type": "execute_result"
    }
   ],
   "source": [
    "bin(25)"
   ]
  },
  {
   "cell_type": "code",
   "execution_count": 4,
   "id": "cc06c1b9",
   "metadata": {},
   "outputs": [
    {
     "data": {
      "text/plain": [
       "'0o31'"
      ]
     },
     "execution_count": 4,
     "metadata": {},
     "output_type": "execute_result"
    }
   ],
   "source": [
    "oct(25)"
   ]
  },
  {
   "cell_type": "code",
   "execution_count": 5,
   "id": "6dc32f90",
   "metadata": {},
   "outputs": [
    {
     "data": {
      "text/plain": [
       "'0x19'"
      ]
     },
     "execution_count": 5,
     "metadata": {},
     "output_type": "execute_result"
    }
   ],
   "source": [
    "hex(25)"
   ]
  },
  {
   "cell_type": "code",
   "execution_count": 6,
   "id": "e2769922",
   "metadata": {},
   "outputs": [],
   "source": [
    "# swap two variables\n",
    "\n",
    "a = 5\n",
    "b = 6\n",
    "\n",
    "# swap using XOR (^) Operator\n",
    "\n",
    "a = a ^ b\n",
    "b = a ^ b\n",
    "a = a ^ b"
   ]
  },
  {
   "cell_type": "code",
   "execution_count": 7,
   "id": "a75ea805",
   "metadata": {},
   "outputs": [
    {
     "name": "stdout",
     "output_type": "stream",
     "text": [
      "6\n",
      "5\n"
     ]
    }
   ],
   "source": [
    "print(a)\n",
    "print(b)"
   ]
  },
  {
   "cell_type": "code",
   "execution_count": 8,
   "id": "224891a5",
   "metadata": {},
   "outputs": [],
   "source": [
    "# Mathematical Functions\n",
    "\n",
    "import math \n",
    "\n",
    "x = math.sqrt(25)"
   ]
  },
  {
   "cell_type": "code",
   "execution_count": 9,
   "id": "55c629e6",
   "metadata": {},
   "outputs": [
    {
     "data": {
      "text/plain": [
       "5.0"
      ]
     },
     "execution_count": 9,
     "metadata": {},
     "output_type": "execute_result"
    }
   ],
   "source": [
    "x"
   ]
  },
  {
   "cell_type": "code",
   "execution_count": 10,
   "id": "e7856407",
   "metadata": {},
   "outputs": [],
   "source": [
    "y = math.floor(2.9)"
   ]
  },
  {
   "cell_type": "code",
   "execution_count": 11,
   "id": "f9e200c9",
   "metadata": {},
   "outputs": [],
   "source": [
    "y = math.ceil(2.2)"
   ]
  },
  {
   "cell_type": "code",
   "execution_count": 12,
   "id": "8559c375",
   "metadata": {},
   "outputs": [
    {
     "data": {
      "text/plain": [
       "3"
      ]
     },
     "execution_count": 12,
     "metadata": {},
     "output_type": "execute_result"
    }
   ],
   "source": [
    "y"
   ]
  },
  {
   "cell_type": "code",
   "execution_count": 13,
   "id": "0d27f59d",
   "metadata": {},
   "outputs": [
    {
     "name": "stdout",
     "output_type": "stream",
     "text": [
      "9.0\n"
     ]
    }
   ],
   "source": [
    "print(math.pow(3,2))"
   ]
  },
  {
   "cell_type": "code",
   "execution_count": 16,
   "id": "a47c5120",
   "metadata": {},
   "outputs": [
    {
     "name": "stdout",
     "output_type": "stream",
     "text": [
      "Hello Yoshinobu\n"
     ]
    }
   ],
   "source": [
    "\"\"\"\n",
    "Fetching user input: Use input().\n",
    "\n",
    "Input is always fetched as a String.\n",
    "\n",
    "\"\"\" \n",
    "\n",
    "x = input()"
   ]
  },
  {
   "cell_type": "code",
   "execution_count": 18,
   "id": "9dabfa35",
   "metadata": {},
   "outputs": [
    {
     "name": "stdout",
     "output_type": "stream",
     "text": [
      "Enter a char pqr\n",
      "p\n"
     ]
    }
   ],
   "source": [
    "ch = input('Enter a char ')[0]\n",
    "print(ch)"
   ]
  },
  {
   "cell_type": "code",
   "execution_count": 19,
   "id": "f22ab684",
   "metadata": {},
   "outputs": [
    {
     "name": "stdout",
     "output_type": "stream",
     "text": [
      "Enter an integer: 9\n"
     ]
    }
   ],
   "source": [
    "# finding cube of the number:\n",
    "\n",
    "value = int(input('Enter an integer: '))\n",
    "result = math.pow(value,3)"
   ]
  },
  {
   "cell_type": "code",
   "execution_count": 20,
   "id": "7f7c012c",
   "metadata": {},
   "outputs": [
    {
     "data": {
      "text/plain": [
       "729.0"
      ]
     },
     "execution_count": 20,
     "metadata": {},
     "output_type": "execute_result"
    }
   ],
   "source": [
    "result"
   ]
  },
  {
   "cell_type": "code",
   "execution_count": 23,
   "id": "10e6c2a5",
   "metadata": {},
   "outputs": [
    {
     "name": "stdout",
     "output_type": "stream",
     "text": [
      "\n"
     ]
    }
   ],
   "source": [
    "# If Statement: Conditional block of statements which allow execution based on the evaluation of a 'test condition'.\n",
    "\n",
    "# BASIC SYNTAX:\n",
    "\n",
    "if True:\n",
    "    #statements\n",
    "    print()"
   ]
  },
  {
   "cell_type": "code",
   "execution_count": 24,
   "id": "0ac7b003",
   "metadata": {},
   "outputs": [
    {
     "name": "stdout",
     "output_type": "stream",
     "text": [
      "False\n"
     ]
    }
   ],
   "source": [
    "# Else: The else block is executed iff the if condition evaluates to False.\n",
    "\n",
    "if 2 > 3:\n",
    "    print(\"True\")\n",
    "else:\n",
    "    print(\"False\")"
   ]
  },
  {
   "cell_type": "code",
   "execution_count": 25,
   "id": "0624e67c",
   "metadata": {},
   "outputs": [],
   "source": [
    "# Elif: Used when we have to check/evaluate multiple conditions."
   ]
  },
  {
   "cell_type": "code",
   "execution_count": 1,
   "id": "61b1aad5",
   "metadata": {},
   "outputs": [
    {
     "name": "stdout",
     "output_type": "stream",
     "text": [
      "1 2 4 7 8 11 13 14 16 17 19 "
     ]
    }
   ],
   "source": [
    "# LOOPS: Repeatedly execute a set of statements until the test condition evaluates to False.\n",
    "\n",
    "# WHILE LOOP:\n",
    "\n",
    "i = 1\n",
    "while i<21:\n",
    "    if i % 3 == 0 or i % 5 == 0:\n",
    "        i += 1\n",
    "        continue\n",
    "    print(i,end = \" \")\n",
    "    i += 1"
   ]
  },
  {
   "cell_type": "code",
   "execution_count": 5,
   "id": "5717cd68",
   "metadata": {},
   "outputs": [
    {
     "name": "stdout",
     "output_type": "stream",
     "text": [
      "# # # # \n",
      "# # # # \n",
      "# # # # \n",
      "# # # # \n"
     ]
    }
   ],
   "source": [
    "character = '#'\n",
    "\n",
    "i = 1 \n",
    "j = 0\n",
    "\n",
    "while i<=4:\n",
    "    j = 1\n",
    "    while j<=4:\n",
    "        print(character,end=\" \")\n",
    "        j += 1\n",
    "    i += 1\n",
    "    print()"
   ]
  },
  {
   "cell_type": "code",
   "execution_count": 7,
   "id": "a11ae1a1",
   "metadata": {},
   "outputs": [
    {
     "name": "stdout",
     "output_type": "stream",
     "text": [
      "1 4 9 16 25 36 49 64 81 100 121 144 169 196 225 256 289 324 361 400 441 484 "
     ]
    }
   ],
   "source": [
    "# FOR LOOOP:\n",
    "\n",
    "for i in range(1,23):\n",
    "    square = i * i\n",
    "    if square < 500:\n",
    "        print(square, end = \" \")      "
   ]
  },
  {
   "cell_type": "code",
   "execution_count": 13,
   "id": "b3e36708",
   "metadata": {},
   "outputs": [
    {
     "name": "stdout",
     "output_type": "stream",
     "text": [
      "True\n"
     ]
    }
   ],
   "source": [
    "number = 2\n",
    "\n",
    "if number > 1:\n",
    "    for i in range(2, int(number**0.5)+1):\n",
    "        if number % i == 0:\n",
    "            print(False)\n",
    "    print(True)"
   ]
  },
  {
   "cell_type": "code",
   "execution_count": 18,
   "id": "f48dd264",
   "metadata": {},
   "outputs": [
    {
     "name": "stdout",
     "output_type": "stream",
     "text": [
      "0 1 2 3 5 8 13 21 34 55 89 144 233 377 610 987 1597 2584 4181 6765 10946 17711 28657 46368 75025 121393 196418 317811 514229 832040 1346269 2178309 3524578 5702887 9227465 14930352 24157817 39088169 63245986 102334155 165580141 267914296 433494437 701408733 1134903170 1836311903 2971215073 4807526976 7778742049 12586269025 "
     ]
    }
   ],
   "source": [
    "a = 0\n",
    "b = 1\n",
    "\n",
    "print(a,end = \" \")\n",
    "\n",
    "for i in range(1,50):\n",
    "    sum1 = a + b\n",
    "    print(sum1,end = \" \")\n",
    "    a = b\n",
    "    b = sum1"
   ]
  },
  {
   "cell_type": "code",
   "execution_count": 20,
   "id": "1c84fc7e",
   "metadata": {},
   "outputs": [
    {
     "data": {
      "text/plain": [
       "' \\n1. Break\\n2. Continue\\n3. Pass\\n'"
      ]
     },
     "execution_count": 20,
     "metadata": {},
     "output_type": "execute_result"
    }
   ],
   "source": [
    "# FLOW REGULATORY STATEMENTS:\n",
    "\n",
    "\"\"\" \n",
    "1. Break\n",
    "2. Continue\n",
    "3. Pass\n",
    "\"\"\""
   ]
  },
  {
   "cell_type": "code",
   "execution_count": 27,
   "id": "819dc525",
   "metadata": {
    "scrolled": false
   },
   "outputs": [
    {
     "name": "stdout",
     "output_type": "stream",
     "text": [
      "# # # # \n",
      "# # # \n",
      "# # \n",
      "# \n"
     ]
    }
   ],
   "source": [
    "for i in range(4):\n",
    "    for j in range(4-i):\n",
    "        print('#',end=' ')\n",
    "    print( )"
   ]
  },
  {
   "cell_type": "code",
   "execution_count": 29,
   "id": "8753cb52",
   "metadata": {
    "scrolled": true
   },
   "outputs": [
    {
     "name": "stdout",
     "output_type": "stream",
     "text": [
      "1 2 3 4 \n",
      "2 3 4 \n",
      "3 4 \n",
      "4 \n"
     ]
    }
   ],
   "source": [
    "for i in range(1,5):\n",
    "    for j in range(i,5):\n",
    "        print(j,end = ' ')\n",
    "    print()"
   ]
  },
  {
   "cell_type": "code",
   "execution_count": 35,
   "id": "5909f62a",
   "metadata": {
    "scrolled": true
   },
   "outputs": [
    {
     "name": "stdout",
     "output_type": "stream",
     "text": [
      "1 \n",
      "1 2 \n",
      "1 2 3 \n",
      "1 2 3 4 \n"
     ]
    }
   ],
   "source": [
    "for i in range(1,5):\n",
    "    for j in range(1,i+1):\n",
    "        print(j,end = ' ')\n",
    "    print()"
   ]
  },
  {
   "cell_type": "code",
   "execution_count": 38,
   "id": "222f5043",
   "metadata": {},
   "outputs": [
    {
     "name": "stdout",
     "output_type": "stream",
     "text": [
      "APQR\n",
      "ABQR\n",
      "ABCR\n",
      "ABCD\n"
     ]
    }
   ],
   "source": [
    "a = \"ABCD\"\n",
    "b = \"PQR\"\n",
    "for i in range(4):\n",
    "    for j in range(3):\n",
    "        print(a[0:i+1],end = \"\")\n",
    "        print(b[i:j+3],end = \"\")\n",
    "        break\n",
    "    print()"
   ]
  },
  {
   "cell_type": "code",
   "execution_count": 40,
   "id": "cf17bdd6",
   "metadata": {},
   "outputs": [
    {
     "name": "stdout",
     "output_type": "stream",
     "text": [
      "0\n"
     ]
    }
   ],
   "source": [
    "# FOR-ELSE\n",
    "\n",
    "for num in range(4):\n",
    "    if num % 5 == 0:\n",
    "        print(num)\n",
    "        break\n",
    "else:\n",
    "    print(\"Not Found.\")"
   ]
  },
  {
   "cell_type": "code",
   "execution_count": 41,
   "id": "4a50f551",
   "metadata": {},
   "outputs": [
    {
     "name": "stdout",
     "output_type": "stream",
     "text": [
      "Prime.\n"
     ]
    }
   ],
   "source": [
    "num = 7\n",
    "\n",
    "for i in range(2,num):\n",
    "    if num % i == 0:\n",
    "        print(\"Not Prime.\")\n",
    "        break\n",
    "else:\n",
    "    print(\"Prime.\")"
   ]
  },
  {
   "cell_type": "code",
   "execution_count": 42,
   "id": "f90a8944",
   "metadata": {},
   "outputs": [
    {
     "name": "stdout",
     "output_type": "stream",
     "text": [
      "array('i', [5, 9, 8, 4, 2])\n"
     ]
    }
   ],
   "source": [
    "from array import *\n",
    "\n",
    "vals = array('i',[5,9,8,4,2]) # specify proper type code\n",
    "print(vals)"
   ]
  },
  {
   "cell_type": "code",
   "execution_count": 44,
   "id": "a8c326b5",
   "metadata": {},
   "outputs": [
    {
     "name": "stdout",
     "output_type": "stream",
     "text": [
      "(2415186105136, 5)\n"
     ]
    }
   ],
   "source": [
    "print(vals.buffer_info()) # output is in the form of (address, size)."
   ]
  },
  {
   "cell_type": "code",
   "execution_count": 45,
   "id": "735a5d2a",
   "metadata": {},
   "outputs": [],
   "source": [
    "vals.reverse()"
   ]
  },
  {
   "cell_type": "code",
   "execution_count": 46,
   "id": "e16b582d",
   "metadata": {},
   "outputs": [
    {
     "data": {
      "text/plain": [
       "array('i', [2, 4, 8, 9, 5])"
      ]
     },
     "execution_count": 46,
     "metadata": {},
     "output_type": "execute_result"
    }
   ],
   "source": [
    "vals"
   ]
  },
  {
   "cell_type": "code",
   "execution_count": 47,
   "id": "6c0156b3",
   "metadata": {},
   "outputs": [
    {
     "name": "stdout",
     "output_type": "stream",
     "text": [
      "Enter the length of the array: 3\n",
      "Enter the next value: 1\n",
      "Enter the next value: 2\n",
      "Enter the next value: 7\n",
      "array('i', [1, 2, 7])\n"
     ]
    }
   ],
   "source": [
    "arr = array('i',[])\n",
    "\n",
    "n = int(input('Enter the length of the array: '))\n",
    "\n",
    "for i in range(n):\n",
    "    x = int(input('Enter the next value: '))\n",
    "    arr.append(x)\n",
    "print(arr)"
   ]
  },
  {
   "cell_type": "code",
   "execution_count": 48,
   "id": "a9b56536",
   "metadata": {},
   "outputs": [
    {
     "name": "stdout",
     "output_type": "stream",
     "text": [
      "[1 2 3 4 5]\n"
     ]
    }
   ],
   "source": [
    "# NUMPY: Helps work with multidimensional arrays.\n",
    "\n",
    "import numpy as np\n",
    "\n",
    "arr = np.array([1,2,3,4,5])\n",
    "\n",
    "print(arr)"
   ]
  },
  {
   "cell_type": "code",
   "execution_count": 49,
   "id": "0824fe8c",
   "metadata": {
    "scrolled": true
   },
   "outputs": [
    {
     "name": "stdout",
     "output_type": "stream",
     "text": [
      "int32\n"
     ]
    }
   ],
   "source": [
    "arr = np.array([1,2,3,4,5])\n",
    "print(arr.dtype)"
   ]
  },
  {
   "cell_type": "code",
   "execution_count": 50,
   "id": "6f93fc59",
   "metadata": {
    "scrolled": true
   },
   "outputs": [
    {
     "name": "stdout",
     "output_type": "stream",
     "text": [
      "float64\n"
     ]
    }
   ],
   "source": [
    "arr = np.array([1,2,3,4,5.0])\n",
    "print(arr.dtype)"
   ]
  },
  {
   "cell_type": "code",
   "execution_count": 52,
   "id": "82853d13",
   "metadata": {},
   "outputs": [
    {
     "name": "stdout",
     "output_type": "stream",
     "text": [
      "[ 0.  1.  2.  3.  4.  5.  6.  7.  8.  9. 10. 11. 12. 13. 14. 15.]\n"
     ]
    }
   ],
   "source": [
    "arr = np.linspace(0,15,16) # Range [0-15] is divided into 16 parts.\n",
    "print(arr)"
   ]
  },
  {
   "cell_type": "code",
   "execution_count": 53,
   "id": "4a6b2199",
   "metadata": {},
   "outputs": [
    {
     "name": "stdout",
     "output_type": "stream",
     "text": [
      "[1.00000000e+01 5.62341325e+10 3.16227766e+20 1.77827941e+30\n",
      " 1.00000000e+40]\n"
     ]
    }
   ],
   "source": [
    "arr = np.logspace(1,40,5)\n",
    "print(arr)"
   ]
  },
  {
   "cell_type": "code",
   "execution_count": 58,
   "id": "ec3a4121",
   "metadata": {},
   "outputs": [
    {
     "name": "stdout",
     "output_type": "stream",
     "text": [
      "[ 1  3  5  7  9 11 13]\n"
     ]
    }
   ],
   "source": [
    "arr = np.arange(1,15,2)\n",
    "print(arr)"
   ]
  },
  {
   "cell_type": "code",
   "execution_count": 59,
   "id": "649d34d4",
   "metadata": {},
   "outputs": [
    {
     "name": "stdout",
     "output_type": "stream",
     "text": [
      "[0. 0. 0. 0. 0.]\n"
     ]
    }
   ],
   "source": [
    "arr = np.zeros(5)\n",
    "print(arr)"
   ]
  },
  {
   "cell_type": "code",
   "execution_count": 60,
   "id": "7bf38173",
   "metadata": {},
   "outputs": [
    {
     "name": "stdout",
     "output_type": "stream",
     "text": [
      "[1. 1. 1. 1. 1.]\n"
     ]
    }
   ],
   "source": [
    "arr = np.ones(5)\n",
    "print(arr)"
   ]
  },
  {
   "cell_type": "code",
   "execution_count": 62,
   "id": "a94a9e70",
   "metadata": {},
   "outputs": [
    {
     "name": "stdout",
     "output_type": "stream",
     "text": [
      "(2, 3)\n"
     ]
    }
   ],
   "source": [
    "arr1 = np.array([[1,2,3],\n",
    "                [4,5,6]])\n",
    "\n",
    "print(arr1.shape) # output is (no. of rows, no. of columns)"
   ]
  },
  {
   "cell_type": "code",
   "execution_count": 63,
   "id": "554ed14e",
   "metadata": {},
   "outputs": [],
   "source": [
    "arr2 = arr1.flatten()"
   ]
  },
  {
   "cell_type": "code",
   "execution_count": 64,
   "id": "cc7d7419",
   "metadata": {},
   "outputs": [
    {
     "data": {
      "text/plain": [
       "array([1, 2, 3, 4, 5, 6])"
      ]
     },
     "execution_count": 64,
     "metadata": {},
     "output_type": "execute_result"
    }
   ],
   "source": [
    "arr2"
   ]
  },
  {
   "cell_type": "code",
   "execution_count": 66,
   "id": "b30becf0",
   "metadata": {},
   "outputs": [],
   "source": [
    "arr3 = arr1.reshape(3,2)"
   ]
  },
  {
   "cell_type": "code",
   "execution_count": 67,
   "id": "32ee6813",
   "metadata": {},
   "outputs": [
    {
     "data": {
      "text/plain": [
       "array([[1, 2],\n",
       "       [3, 4],\n",
       "       [5, 6]])"
      ]
     },
     "execution_count": 67,
     "metadata": {},
     "output_type": "execute_result"
    }
   ],
   "source": [
    "arr3"
   ]
  },
  {
   "cell_type": "code",
   "execution_count": 68,
   "id": "e3828c87",
   "metadata": {},
   "outputs": [],
   "source": [
    "m = np.matrix('1 2 3; 4 5 6; 1 6 7')"
   ]
  },
  {
   "cell_type": "code",
   "execution_count": 69,
   "id": "cf4642a5",
   "metadata": {},
   "outputs": [
    {
     "name": "stdout",
     "output_type": "stream",
     "text": [
      "[1 5 7]\n"
     ]
    }
   ],
   "source": [
    "print(np.diagonal(m)) # print the diagonal elements."
   ]
  },
  {
   "cell_type": "code",
   "execution_count": 70,
   "id": "6dfeb6b0",
   "metadata": {},
   "outputs": [
    {
     "name": "stdout",
     "output_type": "stream",
     "text": [
      "1\n"
     ]
    }
   ],
   "source": [
    "print(m.min())"
   ]
  },
  {
   "cell_type": "code",
   "execution_count": 71,
   "id": "ff6c77cc",
   "metadata": {},
   "outputs": [],
   "source": [
    "n = np.matrix('1 1 1; 1 1 1; 1 1 1')"
   ]
  },
  {
   "cell_type": "code",
   "execution_count": 73,
   "id": "8b743128",
   "metadata": {},
   "outputs": [],
   "source": [
    "m3 = m * n # multiplication of 2 matrices "
   ]
  },
  {
   "cell_type": "code",
   "execution_count": 74,
   "id": "2d876095",
   "metadata": {},
   "outputs": [
    {
     "data": {
      "text/plain": [
       "matrix([[ 6,  6,  6],\n",
       "        [15, 15, 15],\n",
       "        [14, 14, 14]])"
      ]
     },
     "execution_count": 74,
     "metadata": {},
     "output_type": "execute_result"
    }
   ],
   "source": [
    "m3"
   ]
  },
  {
   "cell_type": "code",
   "execution_count": null,
   "id": "e60ed914",
   "metadata": {},
   "outputs": [],
   "source": [
    "# FUNCTIONS\n",
    "\n",
    "def function_name():\n",
    "    # function body\n",
    "    #..............\n",
    "    # return value (optional)\n",
    "    \n",
    "function_name()  # calling the particular function.\n",
    "\n",
    "There is no pass by value or pass by reference in Python."
   ]
  },
  {
   "cell_type": "code",
   "execution_count": null,
   "id": "281e0417",
   "metadata": {},
   "outputs": [],
   "source": [
    "# Types of arguments:\n",
    "\n",
    "Formal Arguments: Used when defining the function.\n",
    "    \n",
    "Actual Arguments: Are passed to the function during the function call.\n",
    "    \n",
    "    a. Position: Mention variable name during the function call to ensure values are assigned to the correct function variables.\n",
    "        \n",
    "    b. Default: Default value for a variable. EX: def person(name, age = 18)\n",
    "            \n",
    "    c. def sum(a, *b): For b you can pass a tuple of values."
   ]
  },
  {
   "cell_type": "code",
   "execution_count": 2,
   "id": "4af851fa",
   "metadata": {},
   "outputs": [
    {
     "name": "stdout",
     "output_type": "stream",
     "text": [
      "Shohei\n",
      "{'age': 29, 'city': 'LA', 'number': 700}\n"
     ]
    }
   ],
   "source": [
    "# KWARGS:\n",
    "\n",
    "def person(name, **data):\n",
    "    print(name)\n",
    "    print(data)\n",
    "\n",
    "person('Shohei',age = 29, city = 'LA',number = 700)"
   ]
  },
  {
   "cell_type": "code",
   "execution_count": 5,
   "id": "1a0bf77d",
   "metadata": {},
   "outputs": [
    {
     "name": "stdout",
     "output_type": "stream",
     "text": [
      "1917835962960\n",
      "1917835962960\n",
      "in function 9\n"
     ]
    }
   ],
   "source": [
    "a = 10\n",
    "\n",
    "print(id(a))\n",
    "\n",
    "def something():\n",
    "    a = 9\n",
    "    x = globals()['a']\n",
    "    \n",
    "    print(id(x))\n",
    "    print(\"in function\", a)\n",
    "    \n",
    "something()"
   ]
  },
  {
   "cell_type": "code",
   "execution_count": 6,
   "id": "e3e86381",
   "metadata": {},
   "outputs": [],
   "source": [
    "def factorial(n):\n",
    "    if n <= 1:\n",
    "        return 1\n",
    "    else:\n",
    "        long = 1\n",
    "        while n>0:\n",
    "            long = long * n\n",
    "            n = n - 1\n",
    "    return long"
   ]
  },
  {
   "cell_type": "code",
   "execution_count": 7,
   "id": "67e82231",
   "metadata": {},
   "outputs": [
    {
     "data": {
      "text/plain": [
       "120"
      ]
     },
     "execution_count": 7,
     "metadata": {},
     "output_type": "execute_result"
    }
   ],
   "source": [
    "factorial(5)"
   ]
  },
  {
   "cell_type": "code",
   "execution_count": 8,
   "id": "d7818c30",
   "metadata": {},
   "outputs": [],
   "source": [
    "# RECURSION: Calling a function within itself.\n",
    "\n",
    "def factorial_r(n):\n",
    "    if n <=1:\n",
    "        return 1\n",
    "    else:\n",
    "        return n * factorial(n-1)"
   ]
  },
  {
   "cell_type": "code",
   "execution_count": 9,
   "id": "a0d5dc89",
   "metadata": {},
   "outputs": [
    {
     "data": {
      "text/plain": [
       "120"
      ]
     },
     "execution_count": 9,
     "metadata": {},
     "output_type": "execute_result"
    }
   ],
   "source": [
    "factorial_r(5)"
   ]
  },
  {
   "cell_type": "code",
   "execution_count": 10,
   "id": "042f4b3f",
   "metadata": {},
   "outputs": [],
   "source": [
    "# Anonymous Functions: Functions without name (Lambda).\n",
    "\n",
    "f = lambda a : a*a  # lambda variables : expression\n",
    "\n",
    "result = f(5)"
   ]
  },
  {
   "cell_type": "code",
   "execution_count": 11,
   "id": "644c9d12",
   "metadata": {},
   "outputs": [
    {
     "data": {
      "text/plain": [
       "25"
      ]
     },
     "execution_count": 11,
     "metadata": {},
     "output_type": "execute_result"
    }
   ],
   "source": [
    "result"
   ]
  },
  {
   "cell_type": "code",
   "execution_count": 12,
   "id": "a46f7053",
   "metadata": {},
   "outputs": [
    {
     "data": {
      "text/plain": [
       "[2, 6, 8, 4, 6, 2]"
      ]
     },
     "execution_count": 12,
     "metadata": {},
     "output_type": "execute_result"
    }
   ],
   "source": [
    "# FILTER\n",
    "\n",
    "nums = [3,2,6,8,4,6,2,9]\n",
    "evens = list(filter(lambda n : n%2 == 0,nums))\n",
    "\n",
    "evens"
   ]
  },
  {
   "cell_type": "code",
   "execution_count": 13,
   "id": "a82485b7",
   "metadata": {},
   "outputs": [
    {
     "data": {
      "text/plain": [
       "[4, 8, 10, 6, 8, 4]"
      ]
     },
     "execution_count": 13,
     "metadata": {},
     "output_type": "execute_result"
    }
   ],
   "source": [
    "# MAP\n",
    "\n",
    "doubles = list(map(lambda n : n+2,evens))\n",
    "\n",
    "doubles"
   ]
  },
  {
   "cell_type": "code",
   "execution_count": 14,
   "id": "49cf14ea",
   "metadata": {},
   "outputs": [
    {
     "data": {
      "text/plain": [
       "40"
      ]
     },
     "execution_count": 14,
     "metadata": {},
     "output_type": "execute_result"
    }
   ],
   "source": [
    "# REDUCE\n",
    "\n",
    "from functools import reduce\n",
    "\n",
    "sum = reduce(lambda a,b : a+b,doubles)\n",
    "\n",
    "sum"
   ]
  },
  {
   "cell_type": "code",
   "execution_count": 18,
   "id": "50c35506",
   "metadata": {},
   "outputs": [
    {
     "name": "stdout",
     "output_type": "stream",
     "text": [
      "<class '__main__.Computer'>\n"
     ]
    }
   ],
   "source": [
    "# Object Oriented Programming:\n",
    "\n",
    "class Computer:\n",
    "    \n",
    "    # ATTRIBUTES\n",
    "    #------------\n",
    "    def __init__(self,cpu,ram):\n",
    "        self.cpu = cpu\n",
    "        self.ram = ram\n",
    "        \n",
    "    # BEHAVIOUR\n",
    "    #-------------\n",
    "    def config(self):\n",
    "        print(\"i5, 16GB, 1TB\")\n",
    "        \n",
    "com1 = Computer('i5',16)\n",
    "\n",
    "print(type(com1))"
   ]
  },
  {
   "cell_type": "code",
   "execution_count": 16,
   "id": "07030f1c",
   "metadata": {},
   "outputs": [
    {
     "name": "stdout",
     "output_type": "stream",
     "text": [
      "i5, 16GB, 1TB\n"
     ]
    }
   ],
   "source": [
    "com1.config() or Computer.config(com1)"
   ]
  },
  {
   "cell_type": "code",
   "execution_count": null,
   "id": "513ebca4",
   "metadata": {},
   "outputs": [],
   "source": [
    "Size of an object depends on the number of variables."
   ]
  },
  {
   "cell_type": "code",
   "execution_count": 19,
   "id": "e5e219f1",
   "metadata": {},
   "outputs": [
    {
     "name": "stdout",
     "output_type": "stream",
     "text": [
      "8 BMW\n",
      "10 BMW\n"
     ]
    }
   ],
   "source": [
    "class Car:\n",
    "    \n",
    "    wheels = 4\n",
    "    \n",
    "    def __init__(self):\n",
    "        self.mil = 10\n",
    "        self.com = \"BMW\"\n",
    "        \n",
    "c1 = Car()\n",
    "c2 = Car()\n",
    "\n",
    "c1.mil = 8\n",
    "\n",
    "print(c1.mil,c1.com)\n",
    "print(c2.mil,c2.com)"
   ]
  },
  {
   "cell_type": "code",
   "execution_count": 20,
   "id": "7e26e11e",
   "metadata": {},
   "outputs": [],
   "source": [
    "class Student:\n",
    "    \n",
    "    def __init__(self,m1,m2,m3):\n",
    "        self.m1 = m1\n",
    "        self.m2 = m2\n",
    "        self.m3 = m3\n",
    "        \n",
    "    def avg(self):\n",
    "        return (self.m1 + self.m2 + self.m3)/3\n",
    "    \n",
    "s1 = Student(34,67,32)\n",
    "s2 = Student(89,32,12)"
   ]
  },
  {
   "cell_type": "code",
   "execution_count": 21,
   "id": "e0b86b4a",
   "metadata": {},
   "outputs": [
    {
     "data": {
      "text/plain": [
       "44.333333333333336"
      ]
     },
     "execution_count": 21,
     "metadata": {},
     "output_type": "execute_result"
    }
   ],
   "source": [
    "s1.avg()"
   ]
  },
  {
   "cell_type": "code",
   "execution_count": 22,
   "id": "3e25ad64",
   "metadata": {},
   "outputs": [],
   "source": [
    "# INNER CLASS\n",
    "\n",
    "class Student:\n",
    "    \n",
    "    def __init__(self,name,rollno):\n",
    "        self.name = name\n",
    "        self.rollno = rollno\n",
    "        self.lap = self.Laptop() # method 1 of calling the inner class [making an object of inner class outside the outer class].\n",
    "        \n",
    "    def show(self):\n",
    "        print(self.name, self.rollno)\n",
    "        \n",
    "    class Laptop:\n",
    "        \n",
    "        def __init__(self):\n",
    "            self.brand = 'HP'\n",
    "            self.cpu = 'i5'\n",
    "            self.ram = 8\n",
    "        \n",
    "s1 = Student('Purdy',2)\n",
    "\n",
    "laptop1 = s1.lap.brand"
   ]
  },
  {
   "cell_type": "code",
   "execution_count": 23,
   "id": "b72b4cf8",
   "metadata": {},
   "outputs": [],
   "source": [
    "laptop2 = Student.Laptop() # method 2 of making an object of inner class outside the outer class."
   ]
  },
  {
   "cell_type": "code",
   "execution_count": 25,
   "id": "a023a1f2",
   "metadata": {},
   "outputs": [
    {
     "name": "stdout",
     "output_type": "stream",
     "text": [
      "Feature 1 Working\n",
      "Feature 2 Working\n",
      "Feature 3 Working\n",
      "Feature 4 Working\n"
     ]
    }
   ],
   "source": [
    "# Inheritance\n",
    "\n",
    "class A:\n",
    "    def feature1(self):\n",
    "        print('Feature 1 Working')\n",
    "        \n",
    "    def feature2(self):\n",
    "        print('Feature 2 Working')\n",
    "        \n",
    "class B(A): # B inherits from class A.\n",
    "    def feature3(self):\n",
    "        print('Feature 3 Working')\n",
    "        \n",
    "    def feature4(self):\n",
    "        print('Feature 4 Working')\n",
    "        \n",
    "b1 = B()\n",
    "\n",
    "b1.feature1()\n",
    "b1.feature2()\n",
    "b1.feature3()\n",
    "b1.feature4()"
   ]
  },
  {
   "cell_type": "code",
   "execution_count": 26,
   "id": "8cedec03",
   "metadata": {},
   "outputs": [
    {
     "name": "stdout",
     "output_type": "stream",
     "text": [
      "Feature 1 Working\n",
      "Feature 2 Working\n",
      "Feature 3 Working\n",
      "Feature 4 Working\n",
      "Feature 5 Working\n"
     ]
    }
   ],
   "source": [
    "class C(B): # Class C inherits from Class B\n",
    "    def feature5(self):\n",
    "        print('Feature 5 Working')\n",
    "        \n",
    "c1 = C()\n",
    "\n",
    "c1.feature1()\n",
    "c1.feature2()\n",
    "c1.feature3()\n",
    "c1.feature4()\n",
    "c1.feature5()"
   ]
  },
  {
   "cell_type": "code",
   "execution_count": null,
   "id": "6892071c",
   "metadata": {},
   "outputs": [],
   "source": [
    "Multiple inheritance:\n",
    "    \n",
    "def class C(A,B): # Assuming class B has not inherited from class A."
   ]
  },
  {
   "cell_type": "code",
   "execution_count": 28,
   "id": "82daa4b8",
   "metadata": {},
   "outputs": [
    {
     "name": "stdout",
     "output_type": "stream",
     "text": [
      " in B Init\n"
     ]
    }
   ],
   "source": [
    "# CONSTRUCTOR IN INHERITANCE\n",
    "\n",
    "class A1:\n",
    "    def feature1(self):\n",
    "        print('Feature 1 Working')\n",
    "        \n",
    "    def feature2(self):\n",
    "        print('Feature 2 Working')\n",
    "        \n",
    "class B1(A1):\n",
    "    def __init__(self):\n",
    "        super().__init__()          # can access features of the parent class.\n",
    "        \n",
    "    def feature3(self):\n",
    "        print('Feature 1 Working')\n",
    "        \n",
    "    def feature4(self):\n",
    "        print('Feature 2 Working')\n",
    "        \n",
    "a1 = B1()"
   ]
  },
  {
   "cell_type": "code",
   "execution_count": null,
   "id": "d85458ca",
   "metadata": {},
   "outputs": [],
   "source": [
    "class C(A,B):\n",
    "    \n",
    "    def __init__(self):\n",
    "        super().__init__() # Bias Towards Class A.\n",
    "        \n",
    "Method Resolution Order(MRO): Multiple Inheritance starts from left to right."
   ]
  },
  {
   "cell_type": "code",
   "execution_count": null,
   "id": "e6097cf6",
   "metadata": {},
   "outputs": [],
   "source": [
    "# Polymorphism\n",
    "\n",
    "Ability to take multiple forms."
   ]
  },
  {
   "cell_type": "code",
   "execution_count": null,
   "id": "8e26bdbb",
   "metadata": {},
   "outputs": [],
   "source": [
    "Method Overloading:\n",
    "    \n",
    "    def average(a,b)\n",
    "    \n",
    "    def average(a,b,c)"
   ]
  },
  {
   "cell_type": "code",
   "execution_count": 29,
   "id": "e53248b0",
   "metadata": {},
   "outputs": [
    {
     "name": "stdout",
     "output_type": "stream",
     "text": [
      "14\n"
     ]
    }
   ],
   "source": [
    "# METHOD OVERLOADING\n",
    "class Student:\n",
    "    \n",
    "    def __init__(self,m1,m2):\n",
    "        self.m1 = m1\n",
    "        self.m2 = m2\n",
    "        \n",
    "    def sum(self,a=None,b=None,c=None):\n",
    "        \n",
    "        if a!=None and b!=None and c!=None:\n",
    "            s = a+b+c\n",
    "        elif a!=None and b!=None:\n",
    "            s = a+b\n",
    "        else:\n",
    "            s = a\n",
    "        \n",
    "        return s\n",
    "    \n",
    "s1 = Student(58,69)\n",
    "\n",
    "print(s1.sum(5,9,6))"
   ]
  },
  {
   "cell_type": "code",
   "execution_count": 30,
   "id": "443537fc",
   "metadata": {},
   "outputs": [
    {
     "name": "stdout",
     "output_type": "stream",
     "text": [
      "in A Show\n"
     ]
    }
   ],
   "source": [
    "# METHOD OVERRIDING\n",
    "\n",
    "class A:\n",
    "    \n",
    "    def show(self):\n",
    "        print(\"in A Show\")\n",
    "        \n",
    "class B(A):\n",
    "    pass\n",
    "        \n",
    "a1 = B()\n",
    "a1.show()"
   ]
  },
  {
   "cell_type": "code",
   "execution_count": 31,
   "id": "a9fa9d24",
   "metadata": {},
   "outputs": [
    {
     "name": "stdout",
     "output_type": "stream",
     "text": [
      "in B Show\n"
     ]
    }
   ],
   "source": [
    "# METHOD OVERRIDING\n",
    "\n",
    "class A:\n",
    "    \n",
    "    def show(self):\n",
    "        print(\"in A Show\")\n",
    "        \n",
    "class B(A):\n",
    "    \n",
    "    def show(self):\n",
    "        print(\"in B Show\") #Overrides A.\n",
    "        \n",
    "a1 = B()\n",
    "a1.show()"
   ]
  },
  {
   "cell_type": "code",
   "execution_count": null,
   "id": "5a4f1bc3",
   "metadata": {},
   "outputs": [],
   "source": [
    "# ABSTRACT CLASS: Class that constitutes abstract methods. (Atleast 1 abstract method).\n",
    "\n",
    "# ABSTRACT METHOD: Methods which have only a declaration but no formal definition are referred to as abstract methods.\n",
    "\n",
    "class Comp:\n",
    "    def process(self):\n",
    "        pass # No functionality for the method.\n",
    "    \n",
    "#In Python, abstract classes do not allow the creation of objects. \n",
    "\n",
    "from abc import ABC, abstractmethod\n",
    "\n",
    "class Comp(ABC):\n",
    "    @abstractmethod\n",
    "    def process(self):\n",
    "        pass\n",
    "    \n",
    "cmp = Comp() # cannot create an object of that class."
   ]
  },
  {
   "cell_type": "code",
   "execution_count": 3,
   "id": "ba0f63e6",
   "metadata": {},
   "outputs": [
    {
     "name": "stdout",
     "output_type": "stream",
     "text": [
      "7 8 9 5 "
     ]
    }
   ],
   "source": [
    "# ITERATORS\n",
    "\n",
    "nums = [7,8,9,5]\n",
    "\n",
    "for i in nums:\n",
    "    print(i,end= ' ')"
   ]
  },
  {
   "cell_type": "code",
   "execution_count": 4,
   "id": "b5f38337",
   "metadata": {},
   "outputs": [
    {
     "name": "stdout",
     "output_type": "stream",
     "text": [
      "7\n"
     ]
    }
   ],
   "source": [
    "nums = [7,8,9,10]\n",
    "\n",
    "it = iter(nums)\n",
    "\n",
    "print(it.__next__())"
   ]
  },
  {
   "cell_type": "code",
   "execution_count": 5,
   "id": "02bd127f",
   "metadata": {},
   "outputs": [
    {
     "name": "stdout",
     "output_type": "stream",
     "text": [
      "1 4 9 16 25 36 49 64 81 100 "
     ]
    }
   ],
   "source": [
    "# GENERATORS\n",
    "\n",
    "def topten():\n",
    "    \n",
    "    n = 1\n",
    "    \n",
    "    while n <= 10:\n",
    "        square = n*n\n",
    "        yield square  # creating iterator using generator\n",
    "        n = n+1\n",
    "        \n",
    "values = topten()\n",
    "\n",
    "for i in values:\n",
    "    print(i, end = ' ')"
   ]
  },
  {
   "cell_type": "code",
   "execution_count": null,
   "id": "c3390474",
   "metadata": {},
   "outputs": [],
   "source": [
    "# ERRORS\n",
    "\n",
    "1. Compile Time: Essentially syntactical errors.\n",
    "\n",
    "2. Logical: Yields the wrong output.\n",
    "\n",
    "3. Run Time: Error during the run-time/execution."
   ]
  },
  {
   "cell_type": "code",
   "execution_count": 9,
   "id": "a24d3945",
   "metadata": {},
   "outputs": [
    {
     "name": "stdout",
     "output_type": "stream",
     "text": [
      "Zero Division Error\n",
      "Zero Division Error\n",
      "division by zero\n"
     ]
    }
   ],
   "source": [
    "# HANDLING EXCEPTIONS (TRY & EXCEPT)\n",
    "try:\n",
    "    a = 5\n",
    "    b = 0\n",
    "    sum1 = a/b\n",
    "except Exception: # except ZeroDivisionError\n",
    "    print('Zero Division Error')\n",
    "    \n",
    "try:\n",
    "    a = 5\n",
    "    b = 0\n",
    "    sum1 = a/b\n",
    "except ZeroDivisionError: \n",
    "    print('Zero Division Error')\n",
    "    \n",
    "try:\n",
    "    a = 5\n",
    "    b = 0\n",
    "    sum1 = a/b\n",
    "except Exception as e: \n",
    "    print(e)"
   ]
  },
  {
   "cell_type": "code",
   "execution_count": 10,
   "id": "56fe203a",
   "metadata": {},
   "outputs": [
    {
     "name": "stdout",
     "output_type": "stream",
     "text": [
      "Resource Open.\n",
      "Resource Closed\n"
     ]
    }
   ],
   "source": [
    "# It is important to close any resource that we have opened/accessed like a file, database connection.\n",
    "\n",
    "# This is where we use the finally block.\n",
    "\n",
    "try:\n",
    "    a,b = 5,2\n",
    "    print('Resource Open.')\n",
    "    \n",
    "except Exception as e:\n",
    "    print(e)\n",
    "    \n",
    "finally: # Clean up (close) your resources.\n",
    "    print('Resource Closed')"
   ]
  },
  {
   "cell_type": "code",
   "execution_count": 11,
   "id": "b00c4586",
   "metadata": {},
   "outputs": [],
   "source": [
    "# THREADS\n",
    "\n",
    "When a task is broken down into smaller tasks, each task is referred to as a thread."
   ]
  },
  {
   "cell_type": "code",
   "execution_count": 12,
   "id": "3b4edfc9",
   "metadata": {},
   "outputs": [
    {
     "name": "stdout",
     "output_type": "stream",
     "text": [
      "Hello\n",
      "Hello\n",
      "Hello\n",
      "Hello\n",
      "Hello\n",
      "Hi\n",
      "Hi\n",
      "Hi\n",
      "Hi\n",
      "Hi\n"
     ]
    }
   ],
   "source": [
    "class Hello:\n",
    "    def run(self):\n",
    "        for i in range(5):\n",
    "            print('Hello')\n",
    "    \n",
    "class Hi:\n",
    "    def run(self):\n",
    "        for i in range(5):\n",
    "            print('Hi')\n",
    "            \n",
    "t1 = Hello()\n",
    "t2 = Hi()\n",
    "\n",
    "t1.run()\n",
    "t2.run()"
   ]
  },
  {
   "cell_type": "code",
   "execution_count": null,
   "id": "4de25501",
   "metadata": {},
   "outputs": [],
   "source": [
    "# Parallel Execution \n",
    "\n",
    "Execute 2 functions simultaneously. By default, every exceution has one thread. This thread is called the main thread."
   ]
  },
  {
   "cell_type": "code",
   "execution_count": 3,
   "id": "59d90401",
   "metadata": {},
   "outputs": [
    {
     "name": "stdout",
     "output_type": "stream",
     "text": [
      "Hello\n",
      "Hi\n",
      "Hello\n",
      "Hi\n",
      "Hello\n",
      "Hi\n",
      "Hello\n",
      "Hi\n",
      "Hello\n",
      "Hi\n"
     ]
    }
   ],
   "source": [
    "# IMPLEMENTING THREADING\n",
    "\n",
    "from time import sleep\n",
    "from threading import *\n",
    "\n",
    "class Hello(Thread):\n",
    "    def run(self):\n",
    "        for i in range(5):\n",
    "            print('Hello')\n",
    "            sleep(1)\n",
    "            \n",
    "class Hi(Thread):\n",
    "    def run(self):\n",
    "        for i in range(5):\n",
    "            print('Hi')\n",
    "            sleep(1)\n",
    "t1 = Hello()\n",
    "t2 = Hi()\n",
    "\n",
    "t1.start() #t1 thread\n",
    "sleep(0.2)\n",
    "t2.start() #t2 thread\n",
    "\n",
    "# t1 and t2 are joined to ensure bye is printed after all the Hello and Hi Statements.\n",
    "t1.join()\n",
    "t2.join()\n",
    "\n",
    "print(\"Bye\") #statement is executed by the main thread.\n",
    "\n",
    "# two threads are created to execute t1 and t2.\n",
    "\n",
    "# Internally, the run method is called."
   ]
  },
  {
   "cell_type": "code",
   "execution_count": null,
   "id": "d7daedc1",
   "metadata": {},
   "outputs": [],
   "source": [
    "# File Handling\n",
    "\n",
    "# open(\"Filename\",'mode')\n",
    "\n",
    "# modes: r (read), w (write), wb (append)\n",
    "\n",
    "file = open('Filename','r')\n",
    "\n",
    "print(f.readline()) # prints the first line\n",
    "\n",
    "print(f.readline()) # each readline statement execution proceeds to print the next line."
   ]
  },
  {
   "cell_type": "code",
   "execution_count": 7,
   "id": "f67d6c46",
   "metadata": {},
   "outputs": [
    {
     "data": {
      "text/plain": [
       "True"
      ]
     },
     "execution_count": 7,
     "metadata": {},
     "output_type": "execute_result"
    }
   ],
   "source": [
    "# LINEAR SEARCH\n",
    "\n",
    "def linear_search(arrays,key):\n",
    "    for i in arrays:\n",
    "        if i == key:\n",
    "            return True\n",
    "    return False\n",
    "\n",
    "arr = [5,8,4,6,9,2]\n",
    "\n",
    "key = 9\n",
    "\n",
    "linear_search(arr,key)"
   ]
  },
  {
   "cell_type": "code",
   "execution_count": 2,
   "id": "1172a921",
   "metadata": {},
   "outputs": [
    {
     "data": {
      "text/plain": [
       "True"
      ]
     },
     "execution_count": 2,
     "metadata": {},
     "output_type": "execute_result"
    }
   ],
   "source": [
    "def binary_search(arrays,key):\n",
    "    \n",
    "    l = 0\n",
    "    u = len(arrays) - 1\n",
    "    \n",
    "    while l <= u:\n",
    "        mid = (l+u)//2\n",
    "        \n",
    "        if arrays[mid] == key:\n",
    "            return True\n",
    "        else:\n",
    "            if arrays[mid] < key:\n",
    "                l = mid\n",
    "            else:\n",
    "                u = mid\n",
    "    \n",
    "arr = [5,8,4,6,9,2]\n",
    "\n",
    "key = 9\n",
    "\n",
    "binary_search(arr,key)               "
   ]
  },
  {
   "cell_type": "code",
   "execution_count": 6,
   "id": "30625e86",
   "metadata": {},
   "outputs": [],
   "source": [
    "def b_s(arr,low,high,x):\n",
    "    \n",
    "    if high>=low:\n",
    "        \n",
    "        mid = (high+low)//2\n",
    "        \n",
    "        if arr[mid] == x:\n",
    "            return mid\n",
    "        elif arr[mid] > x:\n",
    "            return b_s(arr,low,mid-1,x)\n",
    "        else:\n",
    "            return b_s(arr,mid+1,high,x)\n",
    "    else:\n",
    "        return -1"
   ]
  },
  {
   "cell_type": "code",
   "execution_count": 7,
   "id": "60242f8f",
   "metadata": {},
   "outputs": [],
   "source": [
    "arr = [ 2, 3, 4, 10, 40 ]\n",
    "x = 10"
   ]
  },
  {
   "cell_type": "code",
   "execution_count": 8,
   "id": "cf8871a7",
   "metadata": {},
   "outputs": [
    {
     "name": "stdout",
     "output_type": "stream",
     "text": [
      "Element is present at index 3\n"
     ]
    }
   ],
   "source": [
    "result = b_s(arr, 0, len(arr)-1, x)\n",
    " \n",
    "if result != -1:\n",
    "    print(\"Element is present at index\", str(result))\n",
    "else:\n",
    "    print(\"Element is not present in array\")"
   ]
  },
  {
   "cell_type": "code",
   "execution_count": 11,
   "id": "2bbecb4e",
   "metadata": {},
   "outputs": [],
   "source": [
    "def bubble_sort(arrays):\n",
    "    for i in range(len(arrays)-1):\n",
    "        for j in range(i+1,len(arrays)):\n",
    "            if arrays[i] > arrays[j]:\n",
    "                arrays[i],arrays[j] = arrays[j],arrays[i]\n",
    "    return arrays"
   ]
  },
  {
   "cell_type": "code",
   "execution_count": 12,
   "id": "eb14eacd",
   "metadata": {},
   "outputs": [
    {
     "data": {
      "text/plain": [
       "[1, 2, 3, 5, 6, 8]"
      ]
     },
     "execution_count": 12,
     "metadata": {},
     "output_type": "execute_result"
    }
   ],
   "source": [
    "array1 = [3,1,8,2,6,5]\n",
    "bubble_sort(array1)"
   ]
  },
  {
   "cell_type": "code",
   "execution_count": 13,
   "id": "d68feb6a",
   "metadata": {},
   "outputs": [
    {
     "data": {
      "text/plain": [
       "[1, 2, 3, 4, 5, 6, 7, 8, 9, 10]"
      ]
     },
     "execution_count": 13,
     "metadata": {},
     "output_type": "execute_result"
    }
   ],
   "source": [
    "array2 = [10,9,8,7,6,5,4,3,2,1]\n",
    "bubble_sort(array2)"
   ]
  },
  {
   "cell_type": "code",
   "execution_count": 14,
   "id": "64301b16",
   "metadata": {},
   "outputs": [],
   "source": [
    "def selection_sort(arrays):\n",
    "    for i in range(len(arrays)-1):\n",
    "        minpos = i\n",
    "        for j in range(i,len(arrays)):\n",
    "            if arrays[j] < arrays[minpos]:\n",
    "                minpos = j\n",
    "        arrays[i],arrays[minpos] = arrays[minpos],arrays[i]"
   ]
  },
  {
   "cell_type": "code",
   "execution_count": 15,
   "id": "3d0f55e6",
   "metadata": {},
   "outputs": [],
   "source": [
    "array2 = [10,9,8,7,6,5,4,3,2,1]\n",
    "selection_sort(array2)"
   ]
  },
  {
   "cell_type": "code",
   "execution_count": 16,
   "id": "dcda00c5",
   "metadata": {},
   "outputs": [
    {
     "data": {
      "text/plain": [
       "[1, 2, 3, 4, 5, 6, 7, 8, 9, 10]"
      ]
     },
     "execution_count": 16,
     "metadata": {},
     "output_type": "execute_result"
    }
   ],
   "source": [
    "array2"
   ]
  },
  {
   "cell_type": "code",
   "execution_count": null,
   "id": "ef2bd7ec",
   "metadata": {},
   "outputs": [],
   "source": [
    "# MYSQL CONNECTION\n",
    "\n",
    "# pip install mysql-connector\n",
    "\n",
    "import mysql.connector\n",
    "\n",
    "mydb = mysql.connector.connect(host='',user='',passwd='')\n",
    "\n",
    "mycursor = mydb.cursor()\n",
    "\n",
    "mycursor.execute(\"show databases;\")\n",
    "\n",
    "for x in mycursor:\n",
    "    print(i)\n",
    "    \n",
    "mycursor.execute(\"select * from student;\")\n",
    "\n",
    "result = mycursor.fetchall()\n",
    "\n",
    "for i in result:\n",
    "    print()"
   ]
  },
  {
   "cell_type": "code",
   "execution_count": 17,
   "id": "a479fac5",
   "metadata": {},
   "outputs": [
    {
     "name": "stdout",
     "output_type": "stream",
     "text": [
      "<zip object at 0x00000249F393B700>\n"
     ]
    }
   ],
   "source": [
    "# ZIP Function\n",
    "\n",
    "names = ['Steph','Klay','Draymond']\n",
    "\n",
    "position = ['PG','SG','DF']\n",
    "\n",
    "zipped = zip(names,position)\n",
    "\n",
    "print(zipped)"
   ]
  },
  {
   "cell_type": "code",
   "execution_count": 18,
   "id": "b0b46d12",
   "metadata": {},
   "outputs": [
    {
     "data": {
      "text/plain": [
       "[('Steph', 'PG'), ('Klay', 'SG'), ('Draymond', 'DF')]"
      ]
     },
     "execution_count": 18,
     "metadata": {},
     "output_type": "execute_result"
    }
   ],
   "source": [
    "list(zipped)"
   ]
  }
 ],
 "metadata": {
  "kernelspec": {
   "display_name": "Python 3 (ipykernel)",
   "language": "python",
   "name": "python3"
  },
  "language_info": {
   "codemirror_mode": {
    "name": "ipython",
    "version": 3
   },
   "file_extension": ".py",
   "mimetype": "text/x-python",
   "name": "python",
   "nbconvert_exporter": "python",
   "pygments_lexer": "ipython3",
   "version": "3.9.12"
  }
 },
 "nbformat": 4,
 "nbformat_minor": 5
}
